{
 "cells": [
  {
   "cell_type": "code",
   "execution_count": 23,
   "metadata": {},
   "outputs": [],
   "source": [
    "import numpy as np\n",
    "import pandas as pd"
   ]
  },
  {
   "cell_type": "markdown",
   "metadata": {},
   "source": [
    "\\begin{align}\n",
    "score_{new} = \\color{orange}{max(scores_{new})} - \\color{blue}{(max(scores_{new})-min(scores_{new}))} \\cdot \\color{red}{\\frac{max(scores_{old})-score_{old}}{max(scores_{old})-min(scores_{old})}}\n",
    "\\end{align}"
   ]
  },
  {
   "cell_type": "code",
   "execution_count": 5,
   "metadata": {},
   "outputs": [],
   "source": [
    "score_old_min=4\n",
    "score_old_max=1\n",
    "score_new_min=10\n",
    "score_new_max=20"
   ]
  },
  {
   "cell_type": "code",
   "execution_count": 40,
   "metadata": {},
   "outputs": [
    {
     "name": "stdout",
     "output_type": "stream",
     "text": [
      "     0\n",
      "20  20\n",
      "16  16\n",
      "12  12\n",
      "10  10\n",
      "      0\n",
      "20  1.0\n",
      "16  2.2\n",
      "12  3.4\n",
      "10  4.0\n"
     ]
    }
   ],
   "source": [
    "def scores_scale(X, scores_old_min, scores_old_max, scores_new_min=0, scores_new_max=1):\n",
    "    X = scores_new_max - ((scores_new_max - scores_new_min) * (scores_old_max - X) / (scores_old_max - scores_old_min))\n",
    "    return X"
   ]
  },
  {
   "cell_type": "code",
   "execution_count": 41,
   "metadata": {},
   "outputs": [
    {
     "name": "stdout",
     "output_type": "stream",
     "text": [
      "     0\n",
      "0     \n",
      "20  20\n",
      "16  16\n",
      "12  12\n",
      "10  10\n",
      "      0\n",
      "0      \n",
      "20  1.0\n",
      "16  2.2\n",
      "12  3.4\n",
      "10  4.0\n"
     ]
    }
   ],
   "source": [
    "X = pd.DataFrame([[20, 16, 12, 10]]).T\n",
    "X.index = X[0]\n",
    "print(X)\n",
    "print(scores_scale(X=X, scores_old_min=10, scores_old_max=20, scores_new_min=4, scores_new_max=1))"
   ]
  },
  {
   "cell_type": "code",
   "execution_count": null,
   "metadata": {},
   "outputs": [],
   "source": [
    "class ScoreScaler(BaseEstimator, TransformerMixin):\n",
    "    \"\"\"Transforms features by scaling each feature to given scoring scale.\n",
    "\n",
    "    This estimator scales and translates each feature individually such\n",
    "    that it acccords with a given range on the training set, e.g. between\n",
    "    zero and one. Without scale arguments, ScoreScaler acts like MinMaxScaler.\n",
    "\n",
    "    Parameters\n",
    "    ----------\n",
    "    scores_old_min : int, float, or 'auto'; default 'auto'\n",
    "        The smallest/worst score on the original scale. If 'auto', the smallest value of \n",
    "        each feature is assumed to be the smallest possible value.\n",
    "\n",
    "    scores_old_max : int, float, or 'auto'; default 'auto'\n",
    "        The highest/best score on the original scale. If 'auto', the greatest value of \n",
    "        each feature is assumed to be the highest possible value.\n",
    "        \n",
    "    scores_new_min : int or float; default 0\n",
    "        The smallest/worst score on the transformed scale.\n",
    "    \n",
    "    scores_new_max : int or float; default 1\n",
    "        The highest/best score on the transformed scale.\n",
    "\n",
    "    Notes\n",
    "    -----\n",
    "    NaNs are treated as missing values: disregarded in fit, and maintained in\n",
    "    transform.\n",
    "    \"\"\"\n",
    "\n",
    "    def __init__(self, scores_old_min='auto', scores_old_max='auto', scores_new_min=0, scores_new_max=1):\n",
    "        self.scores_old_min = scores_old_min\n",
    "        self.scores_old_max = scores_old_max\n",
    "        self.scores_new_min = scores_new_min\n",
    "        self.scores_new_max = scores_new_max\n",
    "\n",
    "    def fit(self, X, y=None):\n",
    "        \"\"\"Compute the minimum and maximum to be used for later scaling, if no score range is given.\n",
    "\n",
    "        Parameters\n",
    "        ----------\n",
    "        X : array-like, shape [n_samples, n_features]\n",
    "            The data used to compute the per-feature minimum and maximum\n",
    "            used for later scaling along the features axis.\n",
    "        \"\"\"\n",
    "        \n",
    "        if scores_old_min == 'auto':\n",
    "            self.scores_old_min_ = X.min()\n",
    "        if scores_old_max == 'auto':\n",
    "            self.scores_old_max_ = X.max()\n",
    "        return self\n",
    "\n",
    "    def transform(self, X):\n",
    "        \"\"\"Scaling features of X according to scale settings.\n",
    "\n",
    "        Parameters\n",
    "        ----------\n",
    "        X : array-like, shape [n_samples, n_features]\n",
    "            Input data that will be transformed.\n",
    "        \"\"\"\n",
    "        \n",
    "        X = self.scores_new_max - ((self.scores_new_max - self.scores_new_min) * \n",
    "                                   (self.scores_old_max_ - X) / (self.scores_old_max_ - self.scores_old_min_))\n",
    "        return X\n",
    "\n",
    "    def inverse_transform(self, X):\n",
    "        \"\"\"Undo the scaling of X according to scale settings.\n",
    "\n",
    "        Parameters\n",
    "        ----------\n",
    "        X : array-like, shape [n_samples, n_features]\n",
    "            Input data that will be transformed.\n",
    "        \"\"\"\n",
    "\n",
    "        X = self.scores_old_max_ - ((self.scores_old_max_ - self.scores_old_min_) * \n",
    "                                   (self.scores_new_max - X) / (self.scores_new_max - self.scores_new_min))\n",
    "        return X"
   ]
  }
 ],
 "metadata": {
  "kernelspec": {
   "display_name": "Python 3",
   "language": "python",
   "name": "python3"
  },
  "language_info": {
   "codemirror_mode": {
    "name": "ipython",
    "version": 3
   },
   "file_extension": ".py",
   "mimetype": "text/x-python",
   "name": "python",
   "nbconvert_exporter": "python",
   "pygments_lexer": "ipython3",
   "version": "3.7.0"
  }
 },
 "nbformat": 4,
 "nbformat_minor": 2
}
